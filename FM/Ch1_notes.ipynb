{
 "cells": [
  {
   "cell_type": "markdown",
   "id": "784574e7-a7bf-4fb9-8b39-20fe1fedc260",
   "metadata": {},
   "source": [
    "# Mathematical Background (Ch1) - Notes\n",
    "\n",
    "This will mainly focus on developing an understanding for the concepts approached, and the specific definitions and examples won't be given too much thought."
   ]
  },
  {
   "cell_type": "code",
   "execution_count": 4,
   "id": "360011c2-16a2-4f89-80b7-734bdcbcb2ca",
   "metadata": {},
   "outputs": [
    {
     "name": "stdout",
     "output_type": "stream",
     "text": [
      "(1, 1)\n",
      "(1, 2)\n",
      "(1, 3)\n",
      "(2, 1)\n",
      "(2, 2)\n",
      "(2, 3)\n",
      "(3, 1)\n",
      "(3, 2)\n",
      "(3, 3)\n"
     ]
    }
   ],
   "source": [
    "\"\"\"\n",
    "Regarding cartesian product (S x S) of a set S\n",
    "\"\"\"\n",
    "S = [1, 2, 3]\n",
    "for i in range(len(S)):\n",
    "    for j in range(len(S)):\n",
    "        print((S[i], S[j]))"
   ]
  },
  {
   "cell_type": "markdown",
   "id": "4ead153c-240d-42f5-a4d2-4198d6dd589d",
   "metadata": {},
   "source": [
    "It is considered a relation $R$ on $S$ to be a subset of $S \\times S$, $R \\subset S \\times S$, and if $(s, s') \\in R$ then $sRs'$, and we say that $s$ is related to $s'$ via $R$."
   ]
  },
  {
   "cell_type": "markdown",
   "id": "2d5ab01a-4eb2-4e76-bb25-63c653fb2c7f",
   "metadata": {},
   "source": [
    "A relation $R$ on $S$ is an equivalence relation if it satisfies all of the following conditions:\n",
    "\n",
    "- $sRs$ for every $s$ in $S$ ($R$ is reflexive):\n",
    "\n",
    "    So, $(a, a) \\in R, \\quad \\forall a \\in A$\n",
    "\n",
    "- If $sRs'$, then $s'Rs$ ($R$ is symmetric)\n",
    "\n",
    "    So, $(a, b) \\in R \\Rightarrow (b, a) \\in R, \\quad \\forall a, b \\in A$\n",
    "  \n",
    "- If $sRs'$ and $sRs''$, then $sRs''$ ($R$ is transitive)\n",
    "\n",
    "    So, $(a, b) \\in R \\wedge (b, c) \\in R \\Rightarrow (a, c) \\in R, \\quad \\forall a, b, c \\in A$\n"
   ]
  },
  {
   "cell_type": "markdown",
   "id": "f808c35a-cc86-42a7-abde-5b164f60f609",
   "metadata": {},
   "source": [
    "Notation wise, $(s)_{R}$ is said to be the equivalence class of $s$ under $R$, which can also be put as $(s)$ if no confusion emerges.\n",
    "\n",
    "An <strong>equivalence class</strong> of an element $a \\in S$ under the equivalence relation $R$ is the set of all elements in $S$ that are related to $a$ by $R$.\n",
    "\n",
    "Example:\n",
    "If $S = \\{1, 2, 3\\}$ and $R = \\{(1,1),(2,2),(3,3),(1,3),(3,1)\\}$, then:\n",
    "\n",
    "- $(1,1) \\in R$, so 1 is related to itself\n",
    "- $(1,3) \\in R$, so 1 is related to 3\n",
    "\n",
    "As such, the equivalence class of 1 is:\n",
    "\n",
    "- $[1] = \\{1, 3\\}$\n",
    "\n",
    "Following the same procedure we find that $[2] = \\{2\\}$ and $[3] = \\{1, 3\\}$. As such, the equivalence classes under $R$ divide $S$ into two classes $\\{1, 3\\}$ and $\\{2\\}$."
   ]
  },
  {
   "cell_type": "markdown",
   "id": "ab3be260-20b6-4202-a35e-122a5a532203",
   "metadata": {},
   "source": [
    "A partition of a set follows the decompostion of this set into subsets, such that every element in the set belongs to exactly one subset (all subsets must be non-empty). These subsets form the blocks of the partition."
   ]
  },
  {
   "cell_type": "markdown",
   "id": "01f91e2f-c343-47d7-82ff-40f435bbfe65",
   "metadata": {},
   "source": [
    "Let $S$ be a set. Let $f: S \\rightarrow X$ be a mapping from $S$ into any set. Then two elements $s, s'$, of $S$ are $f$-related if $f(s) = f(s')$. If this relation is designated by $R_{f}$, then $R_{f}$ is an equivalence relation. Thus, any mapping with $S$ as the domain introduces an equivalence relation $R_{f}$ on $S$."
   ]
  },
  {
   "cell_type": "markdown",
   "id": "0301bd25-bf3a-40d6-943f-13527bdd76ac",
   "metadata": {},
   "source": [
    "A mapping $T: S \\rightarrow S$ is an automorphism (bijective and endomorphism, mapping to itself) of $S$ if it is one-one and onto."
   ]
  }
 ],
 "metadata": {
  "kernelspec": {
   "display_name": "Python 3 (ipykernel)",
   "language": "python",
   "name": "python3"
  },
  "language_info": {
   "codemirror_mode": {
    "name": "ipython",
    "version": 3
   },
   "file_extension": ".py",
   "mimetype": "text/x-python",
   "name": "python",
   "nbconvert_exporter": "python",
   "pygments_lexer": "ipython3",
   "version": "3.10.13"
  }
 },
 "nbformat": 4,
 "nbformat_minor": 5
}
